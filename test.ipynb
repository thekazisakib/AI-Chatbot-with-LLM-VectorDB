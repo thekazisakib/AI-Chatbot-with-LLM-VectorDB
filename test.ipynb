{
 "cells": [
  {
   "cell_type": "code",
   "execution_count": 3,
   "metadata": {},
   "outputs": [],
   "source": [
    "# import libraries\n",
    "\n",
    "import openai\n",
    "import langchain\n",
    "import pinecone \n",
    "import json\n",
    "from langchain.text_splitter import RecursiveCharacterTextSplitter\n",
    "from langchain.embeddings.openai import OpenAIEmbeddings\n",
    "from langchain.vectorstores import Pinecone\n",
    "from langchain.llms import OpenAI\n"
   ]
  },
  {
   "cell_type": "code",
   "execution_count": 4,
   "metadata": {},
   "outputs": [
    {
     "data": {
      "text/plain": [
       "True"
      ]
     },
     "execution_count": 4,
     "metadata": {},
     "output_type": "execute_result"
    }
   ],
   "source": [
    "from dotenv import load_dotenv\n",
    "load_dotenv()"
   ]
  },
  {
   "cell_type": "code",
   "execution_count": 5,
   "metadata": {},
   "outputs": [],
   "source": [
    "import os"
   ]
  },
  {
   "cell_type": "code",
   "execution_count": 8,
   "metadata": {},
   "outputs": [
    {
     "name": "stdout",
     "output_type": "stream",
     "text": [
      "changi_airport: [\"useful information for direction passengers\", \"explore citieswe are flying totoday\", \"sign up for a changi account to receive the latest updates\", \"lets give you the best experience possible\", \"changi airport uses cookies and other innovative tech to deliver an incredible and more personalized experience analytical technologies give us insights on site usage to improve our services marketing technologies from changiairportcom and trusted partners help us advertise our services more relevantly if you choose tokeep them off the basic functionality may degrade your experience preferences can be changed at any time with future effect for more information see ourprivacy policy\"]\n",
      "jewel_changi_airport: [\"discover a wondrous world where nature meets retail\", \"discover a wondrous world where nature meets retail\", \"the firstofitskind play attractions at jewel promise endless fun for the young and young at heart\", \"indulge in the wide array of dining options at jewel\", \"a worldclass shopping experience awaits you at jewel\", \"relax rejuvenate and be refreshed at the first yotelairhotel in asia\", \"purchase tickets for canopy park and the attractions\", \"the gift of disney cruise line at jewel\", \"spend and win big 2024 with capitastar\", \"78 airport boulevard singapore 819666 2024 jewel changi airport devt pte ltd\", \"conditions of useprivacy policy\", \"your email has been subscribed for newsletter\", \"sorry your email is already subscribed\", \"by using this site you agree to ourprivacy policyconditions of accessandcookie policyto the placement of cookies on your computer\"]\n"
     ]
    }
   ],
   "source": [
    "# lets read the document\n",
    "import json\n",
    "from langchain.schema import Document\n",
    "\n",
    "def read_single_json(file_path):\n",
    "    \"\"\"\n",
    "    Read a single JSON file and convert its content into LangChain Document objects.\n",
    "    Args:\n",
    "        file_path (str): Path to the JSON file.\n",
    "    Returns:\n",
    "        list: A list of LangChain Document objects.\n",
    "    \"\"\"\n",
    "    documents = []\n",
    "    try:\n",
    "        with open(file_path, 'r', encoding='utf-8') as f:\n",
    "            data = json.load(f)\n",
    "\n",
    "        # Convert JSON data to Document format\n",
    "        for key, value in data.items():\n",
    "            content = f\"{key}: {value}\" if isinstance(value, str) else f\"{key}: {json.dumps(value)}\"\n",
    "            documents.append(Document(page_content=content, metadata={\"source\": file_path}))\n",
    "\n",
    "    except Exception as e:\n",
    "        print(f\"Error reading {file_path}: {e}\")\n",
    "\n",
    "    return documents\n",
    "\n",
    "# Example usage\n",
    "if __name__ == \"__main__\":\n",
    "    file_path = r\"C:\\Ml Project\\AI-Chatbot-with-LLM-VectorDB\\changi_jewel_content.json\"  # Update with your JSON file path\n",
    "    docs = read_single_json(file_path)\n",
    "    for doc in docs:\n",
    "        print(doc.page_content)\n"
   ]
  },
  {
   "cell_type": "code",
   "execution_count": 9,
   "metadata": {},
   "outputs": [
    {
     "name": "stdout",
     "output_type": "stream",
     "text": [
      "changi_airport: [\"useful information for direction passengers\", \"explore citieswe are flying totoday\", \"sign up for a changi account to receive the latest updates\", \"lets give you the best experience possible\", \"changi airport uses cookies and other innovative tech to deliver an incredible and more personalized experience analytical technologies give us insights on site usage to improve our services marketing technologies from changiairportcom and trusted partners help us advertise our services more relevantly if you choose tokeep them off the basic functionality may degrade your experience preferences can be changed at any time with future effect for more information see ourprivacy policy\"]\n",
      "jewel_changi_airport: [\"discover a wondrous world where nature meets retail\", \"discover a wondrous world where nature meets retail\", \"the firstofitskind play attractions at jewel promise endless fun for the young and young at heart\", \"indulge in the wide array of dining options at jewel\", \"a worldclass shopping experience awaits you at jewel\", \"relax rejuvenate and be refreshed at the first yotelairhotel in asia\", \"purchase tickets for canopy park and the attractions\", \"the gift of disney cruise line at jewel\", \"spend and win big 2024 with capitastar\", \"78 airport boulevard singapore 819666 2024 jewel changi airport devt pte ltd\", \"conditions of useprivacy policy\", \"your email has been subscribed for newsletter\", \"sorry your email is already subscribed\", \"by using this site you agree to\n",
      "subscribed\", \"by using this site you agree to ourprivacy policyconditions of accessandcookie policyto the placement of cookies on your computer\"]\n"
     ]
    }
   ],
   "source": [
    "from langchain.text_splitter import RecursiveCharacterTextSplitter\n",
    "\n",
    "def chunk_data(docs, chunk_size=800, chunk_overlap=50):\n",
    "    \"\"\"\n",
    "    Chunk documents into smaller pieces using RecursiveCharacterTextSplitter.\n",
    "    Args:\n",
    "        docs (list): List of Document objects to be chunked.\n",
    "        chunk_size (int): Maximum size of each chunk.\n",
    "        chunk_overlap (int): Number of overlapping characters between chunks.\n",
    "    Returns:\n",
    "        list: List of chunked Document objects.\n",
    "    \"\"\"\n",
    "    text_splitter = RecursiveCharacterTextSplitter(\n",
    "        chunk_size=chunk_size,\n",
    "        chunk_overlap=chunk_overlap\n",
    "    )\n",
    "    chunked_docs = text_splitter.split_documents(docs)\n",
    "    return chunked_docs\n",
    "\n",
    "if __name__ == \"__main__\":\n",
    "    # Assuming `docs` is a list of Document objects\n",
    "    chunked_docs = chunk_data(docs)\n",
    "    for chunk in chunked_docs:\n",
    "        print(chunk.page_content)\n",
    "\n"
   ]
  },
  {
   "cell_type": "code",
   "execution_count": 12,
   "metadata": {},
   "outputs": [
    {
     "name": "stdout",
     "output_type": "stream",
     "text": [
      "Number of chunks: 3\n",
      "Chunk 1: This is a long document about Changi Airport and its attractions. The Jewel is a major highlight,\n",
      "Chunk 2: a major highlight, including the Rain Vortex and Canopy Park. Dining options are plentiful,\n",
      "Chunk 3: are plentiful, offering both local and international cuisines.\n"
     ]
    }
   ],
   "source": [
    "# Import required libraries\n",
    "from langchain.schema import Document\n",
    "from langchain.text_splitter import RecursiveCharacterTextSplitter\n",
    "\n",
    "# Example documents\n",
    "docs = [\n",
    "    Document(page_content=\"This is a long document about Changi Airport and its attractions. \" \n",
    "                          \"The Jewel is a major highlight, including the Rain Vortex and Canopy Park. \"\n",
    "                          \"Dining options are plentiful, offering both local and international cuisines.\", \n",
    "             metadata={\"source\": \"example.json\"})\n",
    "]\n",
    "\n",
    "# Function to chunk documents\n",
    "def chunk_data(docs, chunk_size=100, chunk_overlap=20):\n",
    "    \"\"\"\n",
    "    Chunk documents into smaller pieces using RecursiveCharacterTextSplitter.\n",
    "    Args:\n",
    "        docs (list): List of Document objects to be chunked.\n",
    "        chunk_size (int): Maximum size of each chunk.\n",
    "        chunk_overlap (int): Number of overlapping characters between chunks.\n",
    "    Returns:\n",
    "        list: List of chunked Document objects.\n",
    "    \"\"\"\n",
    "    text_splitter = RecursiveCharacterTextSplitter(\n",
    "        chunk_size=chunk_size,\n",
    "        chunk_overlap=chunk_overlap\n",
    "    )\n",
    "    return text_splitter.split_documents(docs)\n",
    "\n",
    "# Chunk the data\n",
    "chunked_documents = chunk_data(docs)\n",
    "\n",
    "# Check the number of chunks\n",
    "print(f\"Number of chunks: {len(chunked_documents)}\")\n",
    "\n",
    "# Print content of chunks\n",
    "for i, chunk in enumerate(chunked_documents):\n",
    "    print(f\"Chunk {i + 1}: {chunk.page_content}\")\n"
   ]
  },
  {
   "cell_type": "code",
   "execution_count": 14,
   "metadata": {},
   "outputs": [
    {
     "name": "stderr",
     "output_type": "stream",
     "text": [
      "c:\\Ml Project\\AI-Chatbot-with-LLM-VectorDB\\venv\\lib\\site-packages\\huggingface_hub\\file_download.py:139: UserWarning: `huggingface_hub` cache-system uses symlinks by default to efficiently store duplicated files but your machine does not support them in C:\\Users\\newth\\.cache\\huggingface\\hub\\models--sentence-transformers--all-MiniLM-L6-v2. Caching files will still work but in a degraded version that might require more space on your disk. This warning can be disabled by setting the `HF_HUB_DISABLE_SYMLINKS_WARNING` environment variable. For more details, see https://huggingface.co/docs/huggingface_hub/how-to-cache#limitations.\n",
      "To support symlinks on Windows, you either need to activate Developer Mode or to run Python as an administrator. In order to activate developer mode, see this article: https://docs.microsoft.com/en-us/windows/apps/get-started/enable-your-device-for-development\n",
      "  warnings.warn(message)\n"
     ]
    },
    {
     "name": "stdout",
     "output_type": "stream",
     "text": [
      "[ 6.01984896e-02  4.27370183e-02  6.03869110e-02  4.34192568e-02\n",
      "  5.23741879e-02 -3.48874852e-02  6.34245574e-02 -9.64083243e-03\n",
      " -3.06542069e-02  2.50709411e-02  1.02230720e-02 -3.06353550e-02\n",
      "  4.35768031e-02  6.56639338e-02  1.17072435e-02  1.48841543e-02\n",
      " -1.36543987e-02 -7.12105334e-02 -7.10620433e-02 -8.85656625e-02\n",
      " -4.82185790e-03 -4.95686894e-03 -2.31575556e-02  1.46760596e-02\n",
      " -7.25708306e-02 -5.41962571e-02 -8.67303647e-03  6.15465231e-02\n",
      "  3.81670371e-02 -6.35394081e-03 -7.39156529e-02  9.90081504e-02\n",
      " -4.27832194e-02  4.46158350e-02 -3.34210275e-03 -5.39374596e-04\n",
      " -4.21519503e-02 -4.34518270e-02  6.62737489e-02 -3.11782956e-02\n",
      " -1.57658830e-02  5.47460578e-02  5.84814548e-02 -9.56310406e-02\n",
      "  2.37366911e-02 -6.89463764e-02  2.05923561e-02 -1.45807698e-01\n",
      "  1.97384376e-02  5.45701198e-02  7.93529227e-02  3.54916789e-02\n",
      "  7.63163269e-02  5.44120781e-02 -1.88720636e-02  8.14747624e-03\n",
      " -7.47628286e-02 -9.29688513e-02  3.07394024e-02 -6.75935596e-02\n",
      " -1.11291371e-02  1.92684326e-02 -2.77433693e-02 -6.64864108e-03\n",
      "  1.64308604e-02 -1.22107231e-04 -2.96652764e-02  1.15054632e-02\n",
      "  2.34180279e-02 -6.41670600e-02 -8.05995688e-02  3.63546312e-02\n",
      "  4.27552126e-02  9.04203281e-02  1.32624693e-02  5.97116258e-03\n",
      "  4.73343879e-02  4.27907109e-02  7.37112528e-03  7.27503970e-02\n",
      "  2.18539275e-02  1.49297516e-03  5.63753862e-03 -2.03735940e-02\n",
      " -1.05534000e-02 -6.86040446e-02 -1.03441253e-01 -5.81077300e-02\n",
      "  2.51767971e-02  3.90927829e-02 -7.91803375e-02  8.35973397e-02\n",
      "  2.30779350e-02  1.35813383e-02  9.37465299e-03 -1.03063658e-02\n",
      "  6.22866303e-03 -5.05808406e-02 -2.08930876e-02 -1.75305698e-02\n",
      "  1.78162586e-02  4.83885668e-02 -1.52293332e-02 -1.18231354e-02\n",
      "  2.94336285e-02 -7.89397359e-02  7.33232126e-02 -4.96956855e-02\n",
      "  1.42278541e-02  2.73676254e-02 -3.71552408e-02  2.11173296e-02\n",
      " -2.90203355e-02 -9.23413504e-03 -3.69903035e-02  1.01429924e-01\n",
      "  7.12925848e-03  7.17080906e-02 -1.77540518e-02 -1.26489075e-02\n",
      " -4.15782630e-02  2.68413965e-03  9.44408868e-03 -4.11269553e-02\n",
      " -9.07816738e-03 -1.04135588e-01  3.11442893e-02 -6.58847098e-33\n",
      " -4.73441370e-02  1.02859199e-01 -4.34780552e-04 -8.41647293e-03\n",
      "  3.64966653e-02 -8.58858898e-02 -7.33361170e-02  7.36233033e-03\n",
      "  2.92738471e-02  8.43814481e-03 -1.09651610e-01  2.24227682e-02\n",
      " -6.93260282e-02 -3.69430743e-02  9.31467712e-02  3.52643207e-02\n",
      " -3.67170852e-03 -6.24452606e-02 -4.80656773e-02  2.34166393e-03\n",
      "  3.92679917e-03 -6.28820807e-02  2.76872087e-02 -1.06746659e-01\n",
      "  1.08498693e-01  2.69097406e-02  6.99382946e-02 -3.23349284e-03\n",
      "  6.35938868e-02  6.86019612e-03 -2.88022291e-02  1.67625230e-02\n",
      "  1.70549266e-02 -1.59884859e-02 -3.77969630e-02 -6.24936074e-03\n",
      " -1.29578616e-02  6.75469264e-02  1.59882586e-02  3.91802602e-02\n",
      "  2.21024137e-02 -7.97628332e-03 -6.79443181e-02  4.04079817e-02\n",
      "  4.51510102e-02  8.49210620e-02 -1.02104045e-01 -6.24542646e-02\n",
      "  1.18437901e-01 -6.17780648e-02 -8.97206217e-02 -3.32000491e-04\n",
      " -4.92058992e-02 -1.21128140e-02  4.86264415e-02 -2.12298408e-02\n",
      "  2.97048483e-02  2.11968347e-02 -1.41547155e-02  8.12650844e-02\n",
      " -6.02885112e-02 -3.15739289e-02 -1.08180940e-01  1.32918313e-01\n",
      "  5.15531860e-02 -2.97635086e-02  2.03221180e-02  3.77478972e-02\n",
      " -2.84622908e-02  5.29592810e-03 -6.33679330e-02  1.93485003e-02\n",
      "  4.81882207e-02 -2.54233703e-02 -3.12742009e-03 -6.56188652e-02\n",
      " -3.71204652e-02  4.72994149e-02  2.94886287e-02  6.14089295e-02\n",
      " -4.74741571e-02  3.80156040e-02 -7.96472561e-03  3.38533968e-02\n",
      "  2.70999819e-02 -6.54613227e-02  2.61950772e-02 -5.78321442e-02\n",
      "  3.04737389e-02 -1.94386803e-02 -7.46074021e-02 -4.67511918e-03\n",
      "  1.26182482e-01 -1.45792132e-02 -3.66823152e-02  2.86319034e-33\n",
      "  4.01460156e-02 -1.53633850e-02  3.22931036e-02  1.01338187e-02\n",
      " -8.10941309e-02  3.56469490e-02 -8.60932097e-03 -1.42677426e-02\n",
      " -1.20883640e-02  7.40972981e-02 -7.80895278e-02  5.15836328e-02\n",
      "  6.26040548e-02  5.75299188e-02 -3.71499889e-04  1.22480504e-02\n",
      "  5.00182360e-02 -6.05456382e-02 -4.14205864e-02 -1.03014633e-02\n",
      "  1.01172989e-02  1.59569029e-02 -4.60339151e-03 -1.29531622e-01\n",
      " -1.82124730e-02  7.39821990e-04 -6.76044896e-02  4.76102084e-02\n",
      " -8.19565728e-02  5.32468185e-02 -1.14026763e-01  1.12062227e-02\n",
      "  5.90855740e-02  4.65641357e-02  8.20857193e-03 -2.41282675e-02\n",
      " -2.15420555e-02 -6.56710267e-02  6.97360709e-02  2.45536529e-02\n",
      "  1.14986096e-02 -6.64560944e-02 -1.73714887e-02 -9.49123316e-03\n",
      "  1.67756248e-02 -3.22299753e-03 -6.92596585e-02 -3.93054374e-02\n",
      "  3.40260938e-02 -3.82334180e-02  3.58551517e-02 -5.44331558e-02\n",
      " -1.12347648e-01 -7.43447337e-03  3.87149639e-02  3.65914144e-02\n",
      "  1.70617457e-02 -4.20394354e-02  3.00258072e-03 -1.09062858e-01\n",
      " -1.71306077e-02  9.30013135e-03 -6.70494735e-02  8.31910148e-02\n",
      " -2.14589350e-02  3.08833346e-02  1.07894778e-01  2.63895486e-02\n",
      "  1.07930228e-02 -4.89925332e-02  4.94915387e-03 -1.51102673e-02\n",
      "  1.06923850e-04  1.10058323e-01 -6.42961711e-02  3.77595797e-02\n",
      "  1.35597274e-01  3.35528627e-02  6.98905066e-02 -3.92493084e-02\n",
      "  6.00097775e-02  1.10246781e-02 -2.49598026e-02 -8.90228059e-03\n",
      "  4.05498482e-02  8.05134177e-02  4.05065827e-02 -4.76141497e-02\n",
      "  1.56707093e-02 -6.38228375e-03 -8.59907828e-03  5.59994206e-03\n",
      " -4.97915708e-02  1.66098075e-03 -2.40723882e-02 -1.82757240e-08\n",
      " -3.39837074e-02 -4.71633300e-02 -6.99838474e-02  1.48274051e-02\n",
      " -9.09330845e-02 -8.48188065e-03 -1.05262939e-02  9.70374569e-02\n",
      "  2.30222177e-02 -5.67703471e-02  4.41446789e-02  2.20497195e-02\n",
      " -9.44339707e-02  7.14440718e-02 -1.25047350e-02 -5.62913977e-02\n",
      " -4.92724776e-02  3.41607928e-02  8.38102866e-03 -1.38683873e-03\n",
      " -1.15745217e-01  5.10045774e-02  3.18159722e-02 -5.11481278e-02\n",
      " -1.01253688e-02  2.06421763e-02 -8.21744427e-02 -1.09809324e-01\n",
      " -2.54890341e-02 -5.02762236e-02 -5.21679223e-02 -2.33868547e-02\n",
      "  3.43978368e-02 -7.60095241e-03  5.87603170e-03  6.72746003e-02\n",
      "  8.03613588e-02 -6.67590797e-02  8.71874914e-02 -9.73993260e-03\n",
      "  8.90267417e-02 -1.05272885e-02 -4.91130613e-02 -1.90638788e-02\n",
      "  1.77703016e-02 -3.58945876e-02  5.54632582e-02  4.14649432e-04\n",
      "  3.89030054e-02  2.40452886e-02 -6.82113618e-02  3.27265705e-03\n",
      "  4.33004536e-02 -6.01607934e-03  3.51343900e-02  1.83668267e-02\n",
      " -3.26255187e-02  1.06265629e-02 -1.99985169e-02  5.14590330e-02\n",
      "  7.56788179e-02  1.14273645e-01 -5.66684566e-02  4.37832437e-02]\n"
     ]
    }
   ],
   "source": [
    "from sentence_transformers import SentenceTransformer\n",
    "\n",
    "model = SentenceTransformer('all-MiniLM-L6-v2')\n",
    "text = \"Changi Airport is one of the best airports in the world.\"\n",
    "embedding = model.encode(text)\n",
    "print(embedding)"
   ]
  },
  {
   "cell_type": "code",
   "execution_count": 16,
   "metadata": {},
   "outputs": [
    {
     "name": "stdout",
     "output_type": "stream",
     "text": [
      "384\n"
     ]
    }
   ],
   "source": [
    "\n",
    "print(len(embedding))  # This will print the length of the embedding vector"
   ]
  }
 ],
 "metadata": {
  "kernelspec": {
   "display_name": "venv",
   "language": "python",
   "name": "python3"
  },
  "language_info": {
   "codemirror_mode": {
    "name": "ipython",
    "version": 3
   },
   "file_extension": ".py",
   "mimetype": "text/x-python",
   "name": "python",
   "nbconvert_exporter": "python",
   "pygments_lexer": "ipython3",
   "version": "3.10.0"
  }
 },
 "nbformat": 4,
 "nbformat_minor": 2
}
