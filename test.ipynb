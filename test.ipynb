{
 "cells": [
  {
   "cell_type": "code",
   "execution_count": 1,
   "metadata": {},
   "outputs": [],
   "source": [
    "# Import libraries\n",
    "\n",
    "import json\n",
    "import openai\n",
    "import pinecone\n",
    "import serpapi\n",
    "from langchain.text_splitter import RecursiveCharacterTextSplitter\n",
    "from langchain.schema import Document\n",
    "from sentence_transformers import SentenceTransformer\n",
    "from langchain.vectorstores import Pinecone as LangchainPinecone"
   ]
  },
  {
   "cell_type": "code",
   "execution_count": 2,
   "metadata": {},
   "outputs": [
    {
     "data": {
      "text/plain": [
       "True"
      ]
     },
     "execution_count": 2,
     "metadata": {},
     "output_type": "execute_result"
    }
   ],
   "source": [
    "import os\n",
    "from dotenv import load_dotenv\n",
    "load_dotenv()  # Loads the environment variables from a .env file"
   ]
  },
  {
   "cell_type": "code",
   "execution_count": 3,
   "metadata": {},
   "outputs": [],
   "source": [
    "from pinecone import Pinecone\n",
    "import os\n",
    "\n",
    "# Load Pinecone API key\n",
    "pinecone_api_key = os.getenv(\"PINECONE_API_KEY\")\n",
    "if not pinecone_api_key:\n",
    "    raise ValueError(\"PINECONE_API_KEY not found. Check your .env file or environment variables.\")\n",
    "\n",
    "# Initialize Pinecone client\n",
    "pc = Pinecone(api_key=pinecone_api_key)"
   ]
  },
  {
   "cell_type": "code",
   "execution_count": 4,
   "metadata": {},
   "outputs": [
    {
     "name": "stdout",
     "output_type": "stream",
     "text": [
      "Pinecone index created and connected successfully!\n"
     ]
    }
   ],
   "source": [
    "\n",
    "# Connect to the index\n",
    "index = pc.Index(\"langchainvectors\")\n",
    "\n",
    "print(\"Pinecone index created and connected successfully!\")"
   ]
  },
  {
   "cell_type": "code",
   "execution_count": 5,
   "metadata": {},
   "outputs": [],
   "source": [
    "# Initialize the Sentence Transformer model for embedding generation\n",
    "model = SentenceTransformer('all-MiniLM-L6-v2')"
   ]
  },
  {
   "cell_type": "code",
   "execution_count": 7,
   "metadata": {},
   "outputs": [
    {
     "name": "stdout",
     "output_type": "stream",
     "text": [
      "Embeddings uploaded to Pinecone index: langchainvectors\n"
     ]
    }
   ],
   "source": [
    "# Generate embeddings for content and upload them to Pinecone\n",
    "def upload_embeddings_to_pinecone(json_file):\n",
    "    with open(json_file, 'r', encoding='utf-8') as file:\n",
    "        content = json.load(file)\n",
    "    \n",
    "    for i, text in enumerate(content):\n",
    "        embedding = model.encode(text).tolist()\n",
    "        index.upsert([(str(i), embedding, {\"text\": text})])\n",
    "    print(f\"Embeddings uploaded to Pinecone index: {'langchainvectors'}\")\n",
    "\n",
    "upload_embeddings_to_pinecone(\"changi_jewel_content.json\")\n"
   ]
  },
  {
   "cell_type": "code",
   "execution_count": 10,
   "metadata": {},
   "outputs": [],
   "source": [
    "# Load SerpAPI key\n",
    "serpapi_key = os.getenv(\"SERPAPI_API_KEY\")\n",
    "if not serpapi_key:\n",
    "    raise ValueError(\"SERPAPI_API_KEY not found. Check your .env file or environment variables.\")\n"
   ]
  },
  {
   "cell_type": "code",
   "execution_count": 12,
   "metadata": {},
   "outputs": [
    {
     "name": "stdout",
     "output_type": "stream",
     "text": [
      "Chatbot is ready! Type 'exit' to quit.\n",
      "Bot: All about onsens & ryokans\n"
     ]
    }
   ],
   "source": [
    "def get_answer(query):\n",
    "    # Generate embedding for the query\n",
    "    query_embedding = model.encode(query).tolist()\n",
    "    \n",
    "    # Query Pinecone for the most relevant match\n",
    "    results = index.query(vector=query_embedding, top_k=1, include_metadata=True)\n",
    "    \n",
    "    # Check if any matches were found\n",
    "    if results[\"matches\"]:\n",
    "        return results[\"matches\"][0][\"metadata\"][\"text\"]\n",
    "    \n",
    "    # If no results found, fallback to web search\n",
    "    return search_web(query)\n",
    "\n",
    "def search_web(query):\n",
    "    params = {\n",
    "        \"q\": query,\n",
    "        \"api_key\": serpapi_key,\n",
    "        \"num\": 1  # Get only the top result\n",
    "    }\n",
    "    response = requests.get(\"https://serpapi.com/search\", params=params)\n",
    "    \n",
    "    if response.status_code == 200:\n",
    "        data = response.json()\n",
    "        if \"organic_results\" in data and data[\"organic_results\"]:\n",
    "            return data[\"organic_results\"][0][\"snippet\"]  # Return the snippet of the top result\n",
    "    \n",
    "    return \"Sorry, I couldn't find an answer online either.\"\n",
    "\n",
    "# Chatbot interaction\n",
    "print(\"Chatbot is ready! Type 'exit' to quit.\")\n",
    "while True:\n",
    "    user_query = input(\"You: \")\n",
    "    if user_query.lower() == 'exit':\n",
    "        break\n",
    "    response = get_answer(user_query)\n",
    "    print(f\"Bot: {response}\")"
   ]
  },
  {
   "cell_type": "code",
   "execution_count": null,
   "metadata": {},
   "outputs": [],
   "source": []
  }
 ],
 "metadata": {
  "kernelspec": {
   "display_name": "Python 3",
   "language": "python",
   "name": "python3"
  },
  "language_info": {
   "codemirror_mode": {
    "name": "ipython",
    "version": 3
   },
   "file_extension": ".py",
   "mimetype": "text/x-python",
   "name": "python",
   "nbconvert_exporter": "python",
   "pygments_lexer": "ipython3",
   "version": "3.10.0"
  }
 },
 "nbformat": 4,
 "nbformat_minor": 2
}
